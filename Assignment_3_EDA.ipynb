{
 "cells": [
  {
   "cell_type": "markdown",
   "metadata": {
    "colab_type": "text",
    "id": "x7fdTGs4SnyS"
   },
   "source": [
    "![](https://i.imgur.com/0AUxkXt.png)"
   ]
  },
  {
   "cell_type": "markdown",
   "metadata": {
    "colab_type": "text",
    "id": "_uqy69P0Pm0L"
   },
   "source": [
    "# Assignment 3 - From data to insights\n",
    "\n",
    "Before you explore the data, write down a short list of what you expect to see in the data: the distribution of key variables, the relationships between important pairs of them, and so on. Such a list is essentially a prediction based on your current understanding of the business.\n",
    "\n",
    "Now analyze the data. Make plots, do summaries, whatever is needed to see if it matches your expectations.\n",
    "\n",
    "Is there anything that doesn’t match? Anything that makes you go “That’s odd” or “That doesn’t make any sense.”?\n",
    "\n",
    "Zoom in and try to understand what in your business is making that weird thing show up in the data like that. This is the critical step.\n",
    "\n",
    "You may have just found an insight into the business and increased your understanding\n",
    "\n",
    "\n",
    "## The data analysis checklist\n",
    "\n",
    "This checklist can be used as a guide during the process of a data analysis, or as a way to evaluate the quality of a reported data analysis.\n",
    "\n",
    "### Answering the first questions\n",
    "\n",
    "1. Did you define the metric for success before beginning?\n",
    "2. Did you understand the context for the question and business application?\n",
    "3. Did you consider whether the question could be answered with the available data?\n",
    "\n",
    "### Cleaning the data\n",
    "\n",
    "1. Did you identify the missing data?\n",
    "2. Is each variable one column?\n",
    "3. Do different data types appear in each table?\n",
    "4. Did you try to identify any errors or miscoding of variables?\n",
    "5. Did you check for outliers?\n",
    "\n",
    "### Exploratory analysis\n",
    "\n",
    "1. Did you make univariate plots (histogram, distplot, boxplot)?\n",
    "2. Did you consider correlations between variables (scatterplot, jointplot, kde plot, correlation matrix)?\n",
    "3. Did you check the units of all data points to make sure they are in the right range?\n",
    "\n",
    "### Presentations\n",
    "\n",
    "1. Did you lead with a brief, understandable to everyone of your problem?\n",
    "2. Did you explain the data, describe the question of interest?\n",
    "3. Did you make sure all legends and axes were legible from the back of the room?"
   ]
  },
  {
   "cell_type": "markdown",
   "metadata": {
    "colab_type": "text",
    "id": "ZBc0glanPm0M"
   },
   "source": [
    "## Dataset - Online Retailes Purchase\n",
    "\n",
    "Typically e-commerce datasets are proprietary and consequently hard to find among publicly available data. However, [The UCI Machine Learning Repository](http://archive.ics.uci.edu/ml/index.php) has made this dataset containing actual transactions from 2010 and 2011. The dataset is maintained on their site, where it can be found by the title \"Online Retail\".\n",
    "\n",
    "\n",
    "### Step 1 - Checking the data\n",
    "\n",
    "**Import tools set**"
   ]
  },
  {
   "cell_type": "code",
   "execution_count": 3,
   "metadata": {
    "colab": {},
    "colab_type": "code",
    "id": "9Cx3LXxfPm0N"
   },
   "outputs": [],
   "source": [
    "# Your code here\n",
    "import numpy as np\n",
    "import pandas as pd\n",
    "import seaborn as sns\n",
    "import matplotlib.pyplot as plt\n",
    "from datetime import datetime"
   ]
  },
  {
   "cell_type": "markdown",
   "metadata": {
    "colab_type": "text",
    "id": "mFTQu0j6Pm0Q"
   },
   "source": [
    "**Import data**"
   ]
  },
  {
   "cell_type": "code",
   "execution_count": 4,
   "metadata": {
    "colab": {},
    "colab_type": "code",
    "id": "w0YVchrVPm0R"
   },
   "outputs": [],
   "source": [
    "# link = \"https://ml101-khanhnguyen.s3-ap-southeast-1.amazonaws.com/devc/Online_Retail.csv\"\n",
    "# Note: set param encoding = 'latin1'\n",
    "# Your code here\n",
    "sal = pd.read_csv(\"Online_Retail.csv\",encoding='latin1')\n"
   ]
  },
  {
   "cell_type": "code",
   "execution_count": 5,
   "metadata": {
    "colab": {},
    "colab_type": "code",
    "id": "V3v8D3pTFrYh"
   },
   "outputs": [
    {
     "data": {
      "text/html": [
       "<div>\n",
       "<style scoped>\n",
       "    .dataframe tbody tr th:only-of-type {\n",
       "        vertical-align: middle;\n",
       "    }\n",
       "\n",
       "    .dataframe tbody tr th {\n",
       "        vertical-align: top;\n",
       "    }\n",
       "\n",
       "    .dataframe thead th {\n",
       "        text-align: right;\n",
       "    }\n",
       "</style>\n",
       "<table border=\"1\" class=\"dataframe\">\n",
       "  <thead>\n",
       "    <tr style=\"text-align: right;\">\n",
       "      <th></th>\n",
       "      <th>InvoiceNo</th>\n",
       "      <th>StockCode</th>\n",
       "      <th>Description</th>\n",
       "      <th>Quantity</th>\n",
       "      <th>InvoiceDate</th>\n",
       "      <th>UnitPrice</th>\n",
       "      <th>CustomerID</th>\n",
       "      <th>Country</th>\n",
       "    </tr>\n",
       "  </thead>\n",
       "  <tbody>\n",
       "    <tr>\n",
       "      <td>0</td>\n",
       "      <td>536365</td>\n",
       "      <td>85123A</td>\n",
       "      <td>WHITE HANGING HEART T-LIGHT HOLDER</td>\n",
       "      <td>6</td>\n",
       "      <td>12/1/10 8:26</td>\n",
       "      <td>2.55</td>\n",
       "      <td>17850.0</td>\n",
       "      <td>United Kingdom</td>\n",
       "    </tr>\n",
       "    <tr>\n",
       "      <td>1</td>\n",
       "      <td>536365</td>\n",
       "      <td>71053</td>\n",
       "      <td>WHITE METAL LANTERN</td>\n",
       "      <td>6</td>\n",
       "      <td>12/1/10 8:26</td>\n",
       "      <td>3.39</td>\n",
       "      <td>17850.0</td>\n",
       "      <td>United Kingdom</td>\n",
       "    </tr>\n",
       "    <tr>\n",
       "      <td>2</td>\n",
       "      <td>536365</td>\n",
       "      <td>84406B</td>\n",
       "      <td>CREAM CUPID HEARTS COAT HANGER</td>\n",
       "      <td>8</td>\n",
       "      <td>12/1/10 8:26</td>\n",
       "      <td>2.75</td>\n",
       "      <td>17850.0</td>\n",
       "      <td>United Kingdom</td>\n",
       "    </tr>\n",
       "    <tr>\n",
       "      <td>3</td>\n",
       "      <td>536365</td>\n",
       "      <td>84029G</td>\n",
       "      <td>KNITTED UNION FLAG HOT WATER BOTTLE</td>\n",
       "      <td>6</td>\n",
       "      <td>12/1/10 8:26</td>\n",
       "      <td>3.39</td>\n",
       "      <td>17850.0</td>\n",
       "      <td>United Kingdom</td>\n",
       "    </tr>\n",
       "    <tr>\n",
       "      <td>4</td>\n",
       "      <td>536365</td>\n",
       "      <td>84029E</td>\n",
       "      <td>RED WOOLLY HOTTIE WHITE HEART.</td>\n",
       "      <td>6</td>\n",
       "      <td>12/1/10 8:26</td>\n",
       "      <td>3.39</td>\n",
       "      <td>17850.0</td>\n",
       "      <td>United Kingdom</td>\n",
       "    </tr>\n",
       "  </tbody>\n",
       "</table>\n",
       "</div>"
      ],
      "text/plain": [
       "  InvoiceNo StockCode                          Description  Quantity  \\\n",
       "0    536365    85123A   WHITE HANGING HEART T-LIGHT HOLDER         6   \n",
       "1    536365     71053                  WHITE METAL LANTERN         6   \n",
       "2    536365    84406B       CREAM CUPID HEARTS COAT HANGER         8   \n",
       "3    536365    84029G  KNITTED UNION FLAG HOT WATER BOTTLE         6   \n",
       "4    536365    84029E       RED WOOLLY HOTTIE WHITE HEART.         6   \n",
       "\n",
       "    InvoiceDate  UnitPrice  CustomerID         Country  \n",
       "0  12/1/10 8:26       2.55     17850.0  United Kingdom  \n",
       "1  12/1/10 8:26       3.39     17850.0  United Kingdom  \n",
       "2  12/1/10 8:26       2.75     17850.0  United Kingdom  \n",
       "3  12/1/10 8:26       3.39     17850.0  United Kingdom  \n",
       "4  12/1/10 8:26       3.39     17850.0  United Kingdom  "
      ]
     },
     "execution_count": 5,
     "metadata": {},
     "output_type": "execute_result"
    }
   ],
   "source": [
    "# Print out First 5 rows from dataframe\n",
    "# Your code here\n",
    "sal.head(5)"
   ]
  },
  {
   "cell_type": "code",
   "execution_count": 6,
   "metadata": {
    "colab": {},
    "colab_type": "code",
    "id": "u4Msf54uFy4w"
   },
   "outputs": [
    {
     "name": "stdout",
     "output_type": "stream",
     "text": [
      "<class 'pandas.core.frame.DataFrame'>\n",
      "RangeIndex: 541909 entries, 0 to 541908\n",
      "Data columns (total 8 columns):\n",
      "InvoiceNo      541909 non-null object\n",
      "StockCode      541909 non-null object\n",
      "Description    540455 non-null object\n",
      "Quantity       541909 non-null int64\n",
      "InvoiceDate    541909 non-null object\n",
      "UnitPrice      541909 non-null float64\n",
      "CustomerID     406829 non-null float64\n",
      "Country        541909 non-null object\n",
      "dtypes: float64(2), int64(1), object(5)\n",
      "memory usage: 22.7+ MB\n"
     ]
    }
   ],
   "source": [
    "# Print out brief info\n",
    "sal.info()"
   ]
  },
  {
   "cell_type": "markdown",
   "metadata": {
    "colab_type": "text",
    "id": "wY6yv3UsPm0k"
   },
   "source": [
    "### Step 2 - Cleaning the data\n",
    "\n",
    "Few of useful data cleaning functions:\n",
    "\n",
    "* `s.astype('category')` # This will convert the datatype of the series to float *Please note that \"s\" here is a Pandas Series\n",
    "\n",
    "* `s.replace(1,'one')` # This will replace all values equal to 1 with 'one'\n",
    "\n",
    "* `s.replace([1,3],['one','three'])` # This will replace all 1 with 'one' and 3 with 'three'\n",
    "\n",
    "* `data.rename(columns=lambda x: x + 1)` # Mass renaming of columns\n",
    "\n",
    "* `data.rename(columns={'oldname': 'new name'})` # Selective renaming\n",
    "\n",
    "* `data.set_index('column_one')` #  This will change the index\n",
    "\n",
    "* `data.rename(index=lambda x: x + 1)` # Mass renaming of index\n",
    "\n",
    "* `data.dropna()` # Remove missing values\n",
    "\n",
    "* `data.fillna(x)` #  This will replaces all null values with x\n",
    "\n",
    "* `s.fillna(s.mean())` # This will replace all null values with the mean (mean can be replaced with almost any function from the below section) :\n",
    "\n",
    "* `data.corr()` # This will return the correlation between columns in a DataFrame\n",
    "\n",
    "* `data.count()` # This will return the number of non-null values in each DataFrame column\n",
    "\n",
    "* `data.max()` # This will return the highest value in each column\n",
    "\n",
    "* `data.min()` # This will return the lowest value in each column\n",
    "\n",
    "* `data.median()` # This will return the median of each column\n",
    "\n",
    "* `data.std()` # This will returns the standard deviation of each column\n"
   ]
  },
  {
   "cell_type": "markdown",
   "metadata": {
    "colab_type": "text",
    "id": "rcNsGWarPm06"
   },
   "source": [
    "**Check for NaN values**"
   ]
  },
  {
   "cell_type": "code",
   "execution_count": 7,
   "metadata": {
    "colab": {},
    "colab_type": "code",
    "id": "TqLxHGy2Pm06"
   },
   "outputs": [
    {
     "data": {
      "text/plain": [
       "InvoiceNo           0\n",
       "StockCode           0\n",
       "Description      1454\n",
       "Quantity            0\n",
       "InvoiceDate         0\n",
       "UnitPrice           0\n",
       "CustomerID     135080\n",
       "Country             0\n",
       "dtype: int64"
      ]
     },
     "execution_count": 7,
     "metadata": {},
     "output_type": "execute_result"
    }
   ],
   "source": [
    "# Your code here\n",
    "#Lấy những giá trị rộng trong từng bảng\n",
    "sal.isnull().sum()"
   ]
  },
  {
   "cell_type": "markdown",
   "metadata": {
    "colab_type": "text",
    "id": "RdhPk_x1Pm0-"
   },
   "source": [
    "**Examine few examples of NaN values**"
   ]
  },
  {
   "cell_type": "code",
   "execution_count": 20,
   "metadata": {
    "colab": {},
    "colab_type": "code",
    "id": "3kGYpbdOPm0-"
   },
   "outputs": [
    {
     "data": {
      "text/html": [
       "<div>\n",
       "<style scoped>\n",
       "    .dataframe tbody tr th:only-of-type {\n",
       "        vertical-align: middle;\n",
       "    }\n",
       "\n",
       "    .dataframe tbody tr th {\n",
       "        vertical-align: top;\n",
       "    }\n",
       "\n",
       "    .dataframe thead th {\n",
       "        text-align: right;\n",
       "    }\n",
       "</style>\n",
       "<table border=\"1\" class=\"dataframe\">\n",
       "  <thead>\n",
       "    <tr style=\"text-align: right;\">\n",
       "      <th></th>\n",
       "      <th>InvoiceNo</th>\n",
       "      <th>StockCode</th>\n",
       "      <th>Description</th>\n",
       "      <th>Quantity</th>\n",
       "      <th>InvoiceDate</th>\n",
       "      <th>UnitPrice</th>\n",
       "      <th>CustomerID</th>\n",
       "      <th>Country</th>\n",
       "      <th>year</th>\n",
       "      <th>Total</th>\n",
       "    </tr>\n",
       "  </thead>\n",
       "  <tbody>\n",
       "    <tr>\n",
       "      <td>0</td>\n",
       "      <td>NaN</td>\n",
       "      <td>NaN</td>\n",
       "      <td>NaN</td>\n",
       "      <td>NaN</td>\n",
       "      <td>NaT</td>\n",
       "      <td>NaN</td>\n",
       "      <td>NaN</td>\n",
       "      <td>NaN</td>\n",
       "      <td>NaN</td>\n",
       "      <td>NaN</td>\n",
       "    </tr>\n",
       "    <tr>\n",
       "      <td>1</td>\n",
       "      <td>NaN</td>\n",
       "      <td>NaN</td>\n",
       "      <td>NaN</td>\n",
       "      <td>NaN</td>\n",
       "      <td>NaT</td>\n",
       "      <td>NaN</td>\n",
       "      <td>NaN</td>\n",
       "      <td>NaN</td>\n",
       "      <td>NaN</td>\n",
       "      <td>NaN</td>\n",
       "    </tr>\n",
       "    <tr>\n",
       "      <td>2</td>\n",
       "      <td>NaN</td>\n",
       "      <td>NaN</td>\n",
       "      <td>NaN</td>\n",
       "      <td>NaN</td>\n",
       "      <td>NaT</td>\n",
       "      <td>NaN</td>\n",
       "      <td>NaN</td>\n",
       "      <td>NaN</td>\n",
       "      <td>NaN</td>\n",
       "      <td>NaN</td>\n",
       "    </tr>\n",
       "    <tr>\n",
       "      <td>3</td>\n",
       "      <td>NaN</td>\n",
       "      <td>NaN</td>\n",
       "      <td>NaN</td>\n",
       "      <td>NaN</td>\n",
       "      <td>NaT</td>\n",
       "      <td>NaN</td>\n",
       "      <td>NaN</td>\n",
       "      <td>NaN</td>\n",
       "      <td>NaN</td>\n",
       "      <td>NaN</td>\n",
       "    </tr>\n",
       "    <tr>\n",
       "      <td>4</td>\n",
       "      <td>NaN</td>\n",
       "      <td>NaN</td>\n",
       "      <td>NaN</td>\n",
       "      <td>NaN</td>\n",
       "      <td>NaT</td>\n",
       "      <td>NaN</td>\n",
       "      <td>NaN</td>\n",
       "      <td>NaN</td>\n",
       "      <td>NaN</td>\n",
       "      <td>NaN</td>\n",
       "    </tr>\n",
       "    <tr>\n",
       "      <td>...</td>\n",
       "      <td>...</td>\n",
       "      <td>...</td>\n",
       "      <td>...</td>\n",
       "      <td>...</td>\n",
       "      <td>...</td>\n",
       "      <td>...</td>\n",
       "      <td>...</td>\n",
       "      <td>...</td>\n",
       "      <td>...</td>\n",
       "      <td>...</td>\n",
       "    </tr>\n",
       "    <tr>\n",
       "      <td>541904</td>\n",
       "      <td>NaN</td>\n",
       "      <td>NaN</td>\n",
       "      <td>NaN</td>\n",
       "      <td>NaN</td>\n",
       "      <td>NaT</td>\n",
       "      <td>NaN</td>\n",
       "      <td>NaN</td>\n",
       "      <td>NaN</td>\n",
       "      <td>NaN</td>\n",
       "      <td>NaN</td>\n",
       "    </tr>\n",
       "    <tr>\n",
       "      <td>541905</td>\n",
       "      <td>NaN</td>\n",
       "      <td>NaN</td>\n",
       "      <td>NaN</td>\n",
       "      <td>NaN</td>\n",
       "      <td>NaT</td>\n",
       "      <td>NaN</td>\n",
       "      <td>NaN</td>\n",
       "      <td>NaN</td>\n",
       "      <td>NaN</td>\n",
       "      <td>NaN</td>\n",
       "    </tr>\n",
       "    <tr>\n",
       "      <td>541906</td>\n",
       "      <td>NaN</td>\n",
       "      <td>NaN</td>\n",
       "      <td>NaN</td>\n",
       "      <td>NaN</td>\n",
       "      <td>NaT</td>\n",
       "      <td>NaN</td>\n",
       "      <td>NaN</td>\n",
       "      <td>NaN</td>\n",
       "      <td>NaN</td>\n",
       "      <td>NaN</td>\n",
       "    </tr>\n",
       "    <tr>\n",
       "      <td>541907</td>\n",
       "      <td>NaN</td>\n",
       "      <td>NaN</td>\n",
       "      <td>NaN</td>\n",
       "      <td>NaN</td>\n",
       "      <td>NaT</td>\n",
       "      <td>NaN</td>\n",
       "      <td>NaN</td>\n",
       "      <td>NaN</td>\n",
       "      <td>NaN</td>\n",
       "      <td>NaN</td>\n",
       "    </tr>\n",
       "    <tr>\n",
       "      <td>541908</td>\n",
       "      <td>NaN</td>\n",
       "      <td>NaN</td>\n",
       "      <td>NaN</td>\n",
       "      <td>NaN</td>\n",
       "      <td>NaT</td>\n",
       "      <td>NaN</td>\n",
       "      <td>NaN</td>\n",
       "      <td>NaN</td>\n",
       "      <td>NaN</td>\n",
       "      <td>NaN</td>\n",
       "    </tr>\n",
       "  </tbody>\n",
       "</table>\n",
       "<p>541909 rows × 10 columns</p>\n",
       "</div>"
      ],
      "text/plain": [
       "       InvoiceNo StockCode Description  Quantity InvoiceDate  UnitPrice  \\\n",
       "0            NaN       NaN         NaN       NaN         NaT        NaN   \n",
       "1            NaN       NaN         NaN       NaN         NaT        NaN   \n",
       "2            NaN       NaN         NaN       NaN         NaT        NaN   \n",
       "3            NaN       NaN         NaN       NaN         NaT        NaN   \n",
       "4            NaN       NaN         NaN       NaN         NaT        NaN   \n",
       "...          ...       ...         ...       ...         ...        ...   \n",
       "541904       NaN       NaN         NaN       NaN         NaT        NaN   \n",
       "541905       NaN       NaN         NaN       NaN         NaT        NaN   \n",
       "541906       NaN       NaN         NaN       NaN         NaT        NaN   \n",
       "541907       NaN       NaN         NaN       NaN         NaT        NaN   \n",
       "541908       NaN       NaN         NaN       NaN         NaT        NaN   \n",
       "\n",
       "        CustomerID Country  year  Total  \n",
       "0              NaN     NaN   NaN    NaN  \n",
       "1              NaN     NaN   NaN    NaN  \n",
       "2              NaN     NaN   NaN    NaN  \n",
       "3              NaN     NaN   NaN    NaN  \n",
       "4              NaN     NaN   NaN    NaN  \n",
       "...            ...     ...   ...    ...  \n",
       "541904         NaN     NaN   NaN    NaN  \n",
       "541905         NaN     NaN   NaN    NaN  \n",
       "541906         NaN     NaN   NaN    NaN  \n",
       "541907         NaN     NaN   NaN    NaN  \n",
       "541908         NaN     NaN   NaN    NaN  \n",
       "\n",
       "[541909 rows x 10 columns]"
      ]
     },
     "execution_count": 20,
     "metadata": {},
     "output_type": "execute_result"
    }
   ],
   "source": [
    "# List all NaN values\n",
    "sal[sal==sal.isnull()]"
   ]
  },
  {
   "cell_type": "markdown",
   "metadata": {
    "colab_type": "text",
    "id": "OpAhltPeHaLR"
   },
   "source": [
    "**Exclude negative Quatity entries**"
   ]
  },
  {
   "cell_type": "code",
   "execution_count": 9,
   "metadata": {
    "colab": {},
    "colab_type": "code",
    "id": "71F-5PY-HZ6T"
   },
   "outputs": [
    {
     "data": {
      "text/html": [
       "<div>\n",
       "<style scoped>\n",
       "    .dataframe tbody tr th:only-of-type {\n",
       "        vertical-align: middle;\n",
       "    }\n",
       "\n",
       "    .dataframe tbody tr th {\n",
       "        vertical-align: top;\n",
       "    }\n",
       "\n",
       "    .dataframe thead th {\n",
       "        text-align: right;\n",
       "    }\n",
       "</style>\n",
       "<table border=\"1\" class=\"dataframe\">\n",
       "  <thead>\n",
       "    <tr style=\"text-align: right;\">\n",
       "      <th></th>\n",
       "      <th>InvoiceNo</th>\n",
       "      <th>StockCode</th>\n",
       "      <th>Description</th>\n",
       "      <th>Quantity</th>\n",
       "      <th>InvoiceDate</th>\n",
       "      <th>UnitPrice</th>\n",
       "      <th>CustomerID</th>\n",
       "      <th>Country</th>\n",
       "    </tr>\n",
       "  </thead>\n",
       "  <tbody>\n",
       "    <tr>\n",
       "      <td>141</td>\n",
       "      <td>C536379</td>\n",
       "      <td>D</td>\n",
       "      <td>Discount</td>\n",
       "      <td>-1</td>\n",
       "      <td>12/1/10 9:41</td>\n",
       "      <td>27.50</td>\n",
       "      <td>14527.0</td>\n",
       "      <td>United Kingdom</td>\n",
       "    </tr>\n",
       "    <tr>\n",
       "      <td>154</td>\n",
       "      <td>C536383</td>\n",
       "      <td>35004C</td>\n",
       "      <td>SET OF 3 COLOURED  FLYING DUCKS</td>\n",
       "      <td>-1</td>\n",
       "      <td>12/1/10 9:49</td>\n",
       "      <td>4.65</td>\n",
       "      <td>15311.0</td>\n",
       "      <td>United Kingdom</td>\n",
       "    </tr>\n",
       "    <tr>\n",
       "      <td>235</td>\n",
       "      <td>C536391</td>\n",
       "      <td>22556</td>\n",
       "      <td>PLASTERS IN TIN CIRCUS PARADE</td>\n",
       "      <td>-12</td>\n",
       "      <td>12/1/10 10:24</td>\n",
       "      <td>1.65</td>\n",
       "      <td>17548.0</td>\n",
       "      <td>United Kingdom</td>\n",
       "    </tr>\n",
       "    <tr>\n",
       "      <td>236</td>\n",
       "      <td>C536391</td>\n",
       "      <td>21984</td>\n",
       "      <td>PACK OF 12 PINK PAISLEY TISSUES</td>\n",
       "      <td>-24</td>\n",
       "      <td>12/1/10 10:24</td>\n",
       "      <td>0.29</td>\n",
       "      <td>17548.0</td>\n",
       "      <td>United Kingdom</td>\n",
       "    </tr>\n",
       "    <tr>\n",
       "      <td>237</td>\n",
       "      <td>C536391</td>\n",
       "      <td>21983</td>\n",
       "      <td>PACK OF 12 BLUE PAISLEY TISSUES</td>\n",
       "      <td>-24</td>\n",
       "      <td>12/1/10 10:24</td>\n",
       "      <td>0.29</td>\n",
       "      <td>17548.0</td>\n",
       "      <td>United Kingdom</td>\n",
       "    </tr>\n",
       "    <tr>\n",
       "      <td>...</td>\n",
       "      <td>...</td>\n",
       "      <td>...</td>\n",
       "      <td>...</td>\n",
       "      <td>...</td>\n",
       "      <td>...</td>\n",
       "      <td>...</td>\n",
       "      <td>...</td>\n",
       "      <td>...</td>\n",
       "    </tr>\n",
       "    <tr>\n",
       "      <td>540449</td>\n",
       "      <td>C581490</td>\n",
       "      <td>23144</td>\n",
       "      <td>ZINC T-LIGHT HOLDER STARS SMALL</td>\n",
       "      <td>-11</td>\n",
       "      <td>12/9/11 9:57</td>\n",
       "      <td>0.83</td>\n",
       "      <td>14397.0</td>\n",
       "      <td>United Kingdom</td>\n",
       "    </tr>\n",
       "    <tr>\n",
       "      <td>541541</td>\n",
       "      <td>C581499</td>\n",
       "      <td>M</td>\n",
       "      <td>Manual</td>\n",
       "      <td>-1</td>\n",
       "      <td>12/9/11 10:28</td>\n",
       "      <td>224.69</td>\n",
       "      <td>15498.0</td>\n",
       "      <td>United Kingdom</td>\n",
       "    </tr>\n",
       "    <tr>\n",
       "      <td>541715</td>\n",
       "      <td>C581568</td>\n",
       "      <td>21258</td>\n",
       "      <td>VICTORIAN SEWING BOX LARGE</td>\n",
       "      <td>-5</td>\n",
       "      <td>12/9/11 11:57</td>\n",
       "      <td>10.95</td>\n",
       "      <td>15311.0</td>\n",
       "      <td>United Kingdom</td>\n",
       "    </tr>\n",
       "    <tr>\n",
       "      <td>541716</td>\n",
       "      <td>C581569</td>\n",
       "      <td>84978</td>\n",
       "      <td>HANGING HEART JAR T-LIGHT HOLDER</td>\n",
       "      <td>-1</td>\n",
       "      <td>12/9/11 11:58</td>\n",
       "      <td>1.25</td>\n",
       "      <td>17315.0</td>\n",
       "      <td>United Kingdom</td>\n",
       "    </tr>\n",
       "    <tr>\n",
       "      <td>541717</td>\n",
       "      <td>C581569</td>\n",
       "      <td>20979</td>\n",
       "      <td>36 PENCILS TUBE RED RETROSPOT</td>\n",
       "      <td>-5</td>\n",
       "      <td>12/9/11 11:58</td>\n",
       "      <td>1.25</td>\n",
       "      <td>17315.0</td>\n",
       "      <td>United Kingdom</td>\n",
       "    </tr>\n",
       "  </tbody>\n",
       "</table>\n",
       "<p>10624 rows × 8 columns</p>\n",
       "</div>"
      ],
      "text/plain": [
       "       InvoiceNo StockCode                       Description  Quantity  \\\n",
       "141      C536379         D                          Discount        -1   \n",
       "154      C536383    35004C   SET OF 3 COLOURED  FLYING DUCKS        -1   \n",
       "235      C536391     22556    PLASTERS IN TIN CIRCUS PARADE        -12   \n",
       "236      C536391     21984  PACK OF 12 PINK PAISLEY TISSUES        -24   \n",
       "237      C536391     21983  PACK OF 12 BLUE PAISLEY TISSUES        -24   \n",
       "...          ...       ...                               ...       ...   \n",
       "540449   C581490     23144   ZINC T-LIGHT HOLDER STARS SMALL       -11   \n",
       "541541   C581499         M                            Manual        -1   \n",
       "541715   C581568     21258        VICTORIAN SEWING BOX LARGE        -5   \n",
       "541716   C581569     84978  HANGING HEART JAR T-LIGHT HOLDER        -1   \n",
       "541717   C581569     20979     36 PENCILS TUBE RED RETROSPOT        -5   \n",
       "\n",
       "          InvoiceDate  UnitPrice  CustomerID         Country  \n",
       "141      12/1/10 9:41      27.50     14527.0  United Kingdom  \n",
       "154      12/1/10 9:49       4.65     15311.0  United Kingdom  \n",
       "235     12/1/10 10:24       1.65     17548.0  United Kingdom  \n",
       "236     12/1/10 10:24       0.29     17548.0  United Kingdom  \n",
       "237     12/1/10 10:24       0.29     17548.0  United Kingdom  \n",
       "...               ...        ...         ...             ...  \n",
       "540449   12/9/11 9:57       0.83     14397.0  United Kingdom  \n",
       "541541  12/9/11 10:28     224.69     15498.0  United Kingdom  \n",
       "541715  12/9/11 11:57      10.95     15311.0  United Kingdom  \n",
       "541716  12/9/11 11:58       1.25     17315.0  United Kingdom  \n",
       "541717  12/9/11 11:58       1.25     17315.0  United Kingdom  \n",
       "\n",
       "[10624 rows x 8 columns]"
      ]
     },
     "execution_count": 9,
     "metadata": {},
     "output_type": "execute_result"
    }
   ],
   "source": [
    "sal[(sal['Quantity']<0)]"
   ]
  },
  {
   "cell_type": "markdown",
   "metadata": {
    "colab_type": "text",
    "id": "s5idc5z2H1zJ"
   },
   "source": [
    "**Exclude negative Price entries**"
   ]
  },
  {
   "cell_type": "code",
   "execution_count": 10,
   "metadata": {
    "colab": {},
    "colab_type": "code",
    "id": "_8OdtEVFH1fr"
   },
   "outputs": [
    {
     "data": {
      "text/html": [
       "<div>\n",
       "<style scoped>\n",
       "    .dataframe tbody tr th:only-of-type {\n",
       "        vertical-align: middle;\n",
       "    }\n",
       "\n",
       "    .dataframe tbody tr th {\n",
       "        vertical-align: top;\n",
       "    }\n",
       "\n",
       "    .dataframe thead th {\n",
       "        text-align: right;\n",
       "    }\n",
       "</style>\n",
       "<table border=\"1\" class=\"dataframe\">\n",
       "  <thead>\n",
       "    <tr style=\"text-align: right;\">\n",
       "      <th></th>\n",
       "      <th>InvoiceNo</th>\n",
       "      <th>StockCode</th>\n",
       "      <th>Description</th>\n",
       "      <th>Quantity</th>\n",
       "      <th>InvoiceDate</th>\n",
       "      <th>UnitPrice</th>\n",
       "      <th>CustomerID</th>\n",
       "      <th>Country</th>\n",
       "    </tr>\n",
       "  </thead>\n",
       "  <tbody>\n",
       "    <tr>\n",
       "      <td>299983</td>\n",
       "      <td>A563186</td>\n",
       "      <td>B</td>\n",
       "      <td>Adjust bad debt</td>\n",
       "      <td>1</td>\n",
       "      <td>8/12/11 14:51</td>\n",
       "      <td>-11062.06</td>\n",
       "      <td>NaN</td>\n",
       "      <td>United Kingdom</td>\n",
       "    </tr>\n",
       "    <tr>\n",
       "      <td>299984</td>\n",
       "      <td>A563187</td>\n",
       "      <td>B</td>\n",
       "      <td>Adjust bad debt</td>\n",
       "      <td>1</td>\n",
       "      <td>8/12/11 14:52</td>\n",
       "      <td>-11062.06</td>\n",
       "      <td>NaN</td>\n",
       "      <td>United Kingdom</td>\n",
       "    </tr>\n",
       "  </tbody>\n",
       "</table>\n",
       "</div>"
      ],
      "text/plain": [
       "       InvoiceNo StockCode      Description  Quantity    InvoiceDate  \\\n",
       "299983   A563186         B  Adjust bad debt         1  8/12/11 14:51   \n",
       "299984   A563187         B  Adjust bad debt         1  8/12/11 14:52   \n",
       "\n",
       "        UnitPrice  CustomerID         Country  \n",
       "299983  -11062.06         NaN  United Kingdom  \n",
       "299984  -11062.06         NaN  United Kingdom  "
      ]
     },
     "execution_count": 10,
     "metadata": {},
     "output_type": "execute_result"
    }
   ],
   "source": [
    "sal[(sal['UnitPrice']<0)]"
   ]
  },
  {
   "cell_type": "markdown",
   "metadata": {
    "colab_type": "text",
    "id": "Ikd1t-v3Pm17"
   },
   "source": [
    "### Step 3 - EDA"
   ]
  },
  {
   "cell_type": "markdown",
   "metadata": {
    "colab_type": "text",
    "id": "-T3iojz1If_r"
   },
   "source": [
    "**The customer with the highest number of orders comes from the United Kingdom (UK)**"
   ]
  },
  {
   "cell_type": "markdown",
   "metadata": {
    "colab_type": "text",
    "id": "9yUfXWelIiTg"
   },
   "source": [
    "**The customer with the highest money spent on purchases comes from Netherlands**"
   ]
  },
  {
   "cell_type": "code",
   "execution_count": 11,
   "metadata": {
    "colab": {},
    "colab_type": "code",
    "id": "qIUoWtlPIhxJ"
   },
   "outputs": [
    {
     "data": {
      "text/plain": [
       "12748.0"
      ]
     },
     "execution_count": 11,
     "metadata": {},
     "output_type": "execute_result"
    }
   ],
   "source": [
    "# Your code here\n",
    "getCountry= sal[sal['Country']==\"United Kingdom\"].groupby(['CustomerID','InvoiceNo']).sum().reset_index()\n",
    "#getCountry\n",
    "getUKUser= getCountry['CustomerID'].value_counts().index[0]\n",
    "getUKUser"
   ]
  },
  {
   "cell_type": "code",
   "execution_count": 12,
   "metadata": {
    "colab": {},
    "colab_type": "code",
    "id": "qCN_rIThJDRj"
   },
   "outputs": [
    {
     "data": {
      "text/plain": [
       "8    14646.0\n",
       "Name: CustomerID, dtype: float64"
      ]
     },
     "execution_count": 12,
     "metadata": {},
     "output_type": "execute_result"
    }
   ],
   "source": [
    "# Your code here\n",
    "getCountry= sal[sal['Country']==\"Netherlands\"].groupby('CustomerID').sum().reset_index()\n",
    "getCountry['Total'] = getCountry['Quantity']*getCountry['UnitPrice']\n",
    "showUser=getCountry[getCountry['Total']==getCountry['Total'].max()]\n",
    "showUser.CustomerID"
   ]
  },
  {
   "cell_type": "markdown",
   "metadata": {
    "colab_type": "text",
    "id": "UcCxS85hIwLb"
   },
   "source": [
    "**On which year had the highest sales?**"
   ]
  },
  {
   "cell_type": "code",
   "execution_count": 13,
   "metadata": {
    "colab": {},
    "colab_type": "code",
    "id": "i-7RsisUI_gc"
   },
   "outputs": [
    {
     "data": {
      "text/plain": [
       "1    2011\n",
       "Name: year, dtype: int64"
      ]
     },
     "execution_count": 13,
     "metadata": {},
     "output_type": "execute_result"
    }
   ],
   "source": [
    "# Your code here\n",
    "getYear= sal\n",
    "getYear['InvoiceDate'] = pd.to_datetime(getYear['InvoiceDate'])\n",
    "\n",
    "getYear['year'] = getYear['InvoiceDate'].dt.year\n",
    "getYear['Total'] = getYear['Quantity']*getYear['UnitPrice']\n",
    "getValue= sal.groupby('year').sum().reset_index()\n",
    "getHighestYear=getValue[getValue['Total']==getValue['Total'].max()]\n",
    "getHighestYear['year']"
   ]
  },
  {
   "cell_type": "markdown",
   "metadata": {
    "colab_type": "text",
    "id": "W-IKvzruKHXb"
   },
   "source": [
    "**How many orders (per hour)?**"
   ]
  },
  {
   "cell_type": "code",
   "execution_count": 31,
   "metadata": {
    "colab": {},
    "colab_type": "code",
    "id": "RHS5ridWKQ4u"
   },
   "outputs": [
    {
     "data": {
      "text/plain": [
       "12    3501\n",
       "13    3003\n",
       "11    2839\n",
       "14    2787\n",
       "15    2711\n",
       "10    2668\n",
       "16    1781\n",
       "9     1662\n",
       "17    1113\n",
       "8      598\n",
       "18     306\n",
       "19     211\n",
       "7       31\n",
       "20      28\n",
       "6       21\n",
       "Name: hour, dtype: int64"
      ]
     },
     "execution_count": 31,
     "metadata": {},
     "output_type": "execute_result"
    }
   ],
   "source": [
    "#gán getHour bằng sal\n",
    "getHour= sal\n",
    "getHour['InvoiceDate'] = pd.to_datetime(getHour['InvoiceDate'])\n",
    "#Lấy ra thời gian trong getHour\n",
    "getHour['hour'] = getHour['InvoiceDate'].dt.hour\n",
    "#Lấy ra số lượng giờ theo date\n",
    "getAllHour= getHour.groupby(['hour','InvoiceDate']).sum().reset_index()\n",
    "getHoura= getAllHour['hour'].value_counts()\n",
    "#Hiển thị số lượng giờ\n",
    "getHoura"
   ]
  },
  {
   "cell_type": "markdown",
   "metadata": {
    "colab_type": "text",
    "id": "dqCZUmx0KKfS"
   },
   "source": [
    "**Make a plot about number of orders per hour**"
   ]
  },
  {
   "cell_type": "code",
   "execution_count": 32,
   "metadata": {
    "colab": {},
    "colab_type": "code",
    "id": "-KPgD51AKKE6"
   },
   "outputs": [
    {
     "data": {
      "text/plain": [
       "<matplotlib.axes._subplots.AxesSubplot at 0xec66610>"
      ]
     },
     "execution_count": 32,
     "metadata": {},
     "output_type": "execute_result"
    },
    {
     "data": {
      "image/png": "[encoded data removed]",
      "text/plain": [
       "<Figure size 432x288 with 1 Axes>"
      ]
     },
     "metadata": {
      "needs_background": "light"
     },
     "output_type": "display_data"
    }
   ],
   "source": [
    "#Hiển thị số hóa đơn trên một đơn vị giờ\n",
    "getHoura.plot(kind=\"bar\")"
   ]
  },
  {
   "cell_type": "markdown",
   "metadata": {
    "colab_type": "text",
    "id": "-8ZwTvS6L0vS"
   },
   "source": [
    "**How many orders (per month)?**"
   ]
  },
  {
   "cell_type": "code",
   "execution_count": 42,
   "metadata": {
    "colab": {},
    "colab_type": "code",
    "id": "NeOp_6a3L0vX"
   },
   "outputs": [
    {
     "data": {
      "text/plain": [
       "11    3029\n",
       "12    2669\n",
       "10    2358\n",
       "9     2097\n",
       "5     1931\n",
       "6     1825\n",
       "3     1808\n",
       "7     1735\n",
       "8     1608\n",
       "4     1540\n",
       "1     1349\n",
       "2     1311\n",
       "Name: month, dtype: int64"
      ]
     },
     "execution_count": 42,
     "metadata": {},
     "output_type": "execute_result"
    }
   ],
   "source": [
    "#gán getMonth bằng sal\n",
    "getMonth= sal\n",
    "getMonth['InvoiceDate'] = pd.to_datetime(getMonth['InvoiceDate'])\n",
    "#Lấy ra thời gian trong getMonth\n",
    "getMonth['month'] = getMonth['InvoiceDate'].dt.month\n",
    "#Lấy ra số lượng tháng theo date\n",
    "getAllMonth= getMonth.groupby(['month','InvoiceDate','year']).sum().reset_index()\n",
    "getMontha= getAllMonth['month'].value_counts()\n",
    "#Hiển thị số lượng order trong tháng\n",
    "getMontha"
   ]
  },
  {
   "cell_type": "markdown",
   "metadata": {
    "colab_type": "text",
    "id": "sOYrMUczL0vb"
   },
   "source": [
    "**Make a plot about number of orders per month**"
   ]
  },
  {
   "cell_type": "code",
   "execution_count": 43,
   "metadata": {
    "colab": {},
    "colab_type": "code",
    "id": "e7RJQ5MbL4cY"
   },
   "outputs": [
    {
     "data": {
      "text/plain": [
       "<matplotlib.axes._subplots.AxesSubplot at 0x13d77f0>"
      ]
     },
     "execution_count": 43,
     "metadata": {},
     "output_type": "execute_result"
    },
    {
     "data": {
      "image/png": "[encoded data removed]",
      "text/plain": [
       "<Figure size 432x288 with 1 Axes>"
      ]
     },
     "metadata": {
      "needs_background": "light"
     },
     "output_type": "display_data"
    }
   ],
   "source": [
    "#Hiển thị số hóa đơn trên một đơn vị tháng\n",
    "getMontha.plot(kind=\"bar\")"
   ]
  },
  {
   "cell_type": "markdown",
   "metadata": {
    "colab_type": "text",
    "id": "E3eeyQeBLd6e"
   },
   "source": [
    "**Top 10 items most sales**"
   ]
  },
  {
   "cell_type": "code",
   "execution_count": 56,
   "metadata": {
    "colab": {},
    "colab_type": "code",
    "id": "4trjB9ZjLhEv"
   },
   "outputs": [
    {
     "data": {
      "text/plain": [
       "85123A    2313\n",
       "22423     2203\n",
       "85099B    2159\n",
       "47566     1727\n",
       "20725     1639\n",
       "84879     1502\n",
       "22720     1477\n",
       "22197     1476\n",
       "21212     1385\n",
       "20727     1350\n",
       "Name: StockCode, dtype: int64"
      ]
     },
     "execution_count": 56,
     "metadata": {},
     "output_type": "execute_result"
    }
   ],
   "source": [
    "#Đếm tất cả giá tri stockcode hiện có\n",
    "getItems=sal['StockCode'].value_counts()\n",
    "#Hiển thị 10 sản phâm đầu tiên\n",
    "getItems.head(10)"
   ]
  },
  {
   "cell_type": "markdown",
   "metadata": {
    "colab_type": "text",
    "id": "ggak_TMtLh5o"
   },
   "source": []
  },
  {
   "cell_type": "markdown",
   "metadata": {
    "colab_type": "text",
    "id": "-dEBLw1uPm1-"
   },
   "source": [
    "**Create a histogram with the 10 countries that have the most 'Quantity' ordered except UK**"
   ]
  },
  {
   "cell_type": "code",
   "execution_count": 60,
   "metadata": {
    "colab": {},
    "colab_type": "code",
    "id": "_N-UF331Pm1-"
   },
   "outputs": [
    {
     "data": {
      "text/plain": [
       "<matplotlib.axes._subplots.AxesSubplot at 0x194c430>"
      ]
     },
     "execution_count": 60,
     "metadata": {},
     "output_type": "execute_result"
    },
    {
     "data": {
      "image/png": "[encoded data removed]",
      "text/plain": [
       "<Figure size 432x288 with 1 Axes>"
      ]
     },
     "metadata": {
      "needs_background": "light"
     },
     "output_type": "display_data"
    }
   ],
   "source": [
    "# Your code here\n",
    "#Lấy ra các quốc gia không là UK\n",
    "getCountry1= sal[sal['Country']!=\"United Kingdom\"].groupby(['CustomerID','InvoiceNo','Country']).sum().reset_index()\n",
    "#getCountry\n",
    "getNonUKUser= getCountry1['Country'].value_counts().head(10)\n",
    "getNonUKUser\n",
    "# What can you tell about this?\n",
    "getNonUKUser.plot(kind=\"barh\")"
   ]
  },
  {
   "cell_type": "markdown",
   "metadata": {
    "colab_type": "text",
    "id": "MoBgPjDiwhdV"
   },
   "source": [
    "### You are awesome!!"
   ]
  }
 ],
 "metadata": {
  "colab": {
   "name": "Assignment_3_EDA.ipynb",
   "provenance": []
  },
  "kernelspec": {
   "display_name": "Python 3",
   "language": "python",
   "name": "python3"
  },
  "language_info": {
   "codemirror_mode": {
    "name": "ipython",
    "version": 3
   },
   "file_extension": ".py",
   "mimetype": "text/x-python",
   "name": "python",
   "nbconvert_exporter": "python",
   "pygments_lexer": "ipython3",
   "version": "3.7.1"
  }
 },
 "nbformat": 4,
 "nbformat_minor": 1
}
